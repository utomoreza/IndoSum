{
 "cells": [
  {
   "cell_type": "code",
   "execution_count": 1,
   "metadata": {},
   "outputs": [],
   "source": [
    "import json\n",
    "from tqdm import tqdm"
   ]
  },
  {
   "cell_type": "code",
   "execution_count": 2,
   "metadata": {},
   "outputs": [],
   "source": [
    "data = []\n",
    "with open('datasets/test.01.jsonl') as file:\n",
    "    for line in file.readlines():\n",
    "        data.append(json.loads(line))"
   ]
  },
  {
   "cell_type": "code",
   "execution_count": 9,
   "metadata": {},
   "outputs": [],
   "source": [
    "# create a function to flatten the tokens in the 'paragraphs' key\n",
    "def flatten_paragraphs(list_paragraphs):\n",
    "    list_sentences = []\n",
    "    for paragraph in list_paragraphs:\n",
    "        for sentence in paragraph:\n",
    "            sent = ' '.join(sentence)\n",
    "            list_sentences.append(sent)\n",
    "    return list_sentences"
   ]
  },
  {
   "cell_type": "code",
   "execution_count": 11,
   "metadata": {},
   "outputs": [],
   "source": [
    "def flatten(nested_list):\n",
    "    final_list = []\n",
    "    for list1 in nested_list:\n",
    "        for list2 in list1:\n",
    "            final_list.append(list2)\n",
    "    return final_list"
   ]
  },
  {
   "cell_type": "code",
   "execution_count": 16,
   "metadata": {},
   "outputs": [],
   "source": [
    "def flatten_summaries(list_sentences):\n",
    "    final_sentences = []\n",
    "    for sentence in list_sentences:\n",
    "        sent = ' '.join(sentence)\n",
    "        final_sentences.append(sent)\n",
    "    return final_sentences"
   ]
  },
  {
   "cell_type": "code",
   "execution_count": null,
   "metadata": {},
   "outputs": [],
   "source": [
    "flatten(data[0]['gold_labels'])"
   ]
  },
  {
   "cell_type": "code",
   "execution_count": null,
   "metadata": {},
   "outputs": [],
   "source": [
    "flatten_paragraphs(data[0]['paragraphs'])"
   ]
  },
  {
   "cell_type": "code",
   "execution_count": 18,
   "metadata": {},
   "outputs": [
    {
     "data": {
      "text/plain": [
       "['Eman Ahmed Abd El Aty memiliki berat badan mencapai 500 kilogram sebelum menjalankan operasi di Mumbai Maret lalu dimana ia mengurangi seperlima dari berat badannya .',\n",
       " 'Abd El Aty diberi diet cairan khusus selama berada di India yang bertujuan menurunkan berat badan .',\n",
       " 'Kini , berat badannya telah turun drastis sebanyak 323 kilogram dalam tiga bulan .',\n",
       " 'Sekarang berat badannya tinggal 176,6 kilogram .']"
      ]
     },
     "execution_count": 18,
     "metadata": {},
     "output_type": "execute_result"
    }
   ],
   "source": [
    "flatten_summaries(data[0]['summary'])"
   ]
  },
  {
   "cell_type": "code",
   "execution_count": 19,
   "metadata": {},
   "outputs": [
    {
     "name": "stderr",
     "output_type": "stream",
     "text": [
      "100%|██████████| 3762/3762 [00:00<00:00, 18027.22it/s]\n"
     ]
    }
   ],
   "source": [
    "for datum in tqdm(data):\n",
    "    datum['flatten_article'] = flatten_paragraphs(datum['paragraphs'])\n",
    "    datum['flatten_summary'] = flatten_summaries(datum['summary'])"
   ]
  },
  {
   "cell_type": "code",
   "execution_count": 21,
   "metadata": {},
   "outputs": [],
   "source": [
    "with open('datasets/test_01.json', 'w') as file:\n",
    "    file.write(json.dumps(data))"
   ]
  }
 ],
 "metadata": {
  "interpreter": {
   "hash": "a26a04c45b752ed149a5fe4c7a403de4dd2bfc935366d54256425b4908788d30"
  },
  "kernelspec": {
   "display_name": "Python 3.8.3 ('base')",
   "language": "python",
   "name": "python3"
  },
  "language_info": {
   "codemirror_mode": {
    "name": "ipython",
    "version": 3
   },
   "file_extension": ".py",
   "mimetype": "text/x-python",
   "name": "python",
   "nbconvert_exporter": "python",
   "pygments_lexer": "ipython3",
   "version": "3.8.3"
  },
  "orig_nbformat": 4
 },
 "nbformat": 4,
 "nbformat_minor": 2
}
